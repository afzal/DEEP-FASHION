{
  "nbformat": 4,
  "nbformat_minor": 0,
  "metadata": {
    "colab": {
      "provenance": [],
      "authorship_tag": "ABX9TyMOuaihhxMWb39tg4AWuqmZ",
      "include_colab_link": true
    },
    "kernelspec": {
      "name": "python3",
      "display_name": "Python 3"
    },
    "language_info": {
      "name": "python"
    }
  },
  "cells": [
    {
      "cell_type": "markdown",
      "metadata": {
        "id": "view-in-github",
        "colab_type": "text"
      },
      "source": [
        "<a href=\"https://colab.research.google.com/github/afzal/DEEP-FASHION/blob/main/Py.ipynb\" target=\"_parent\"><img src=\"https://colab.research.google.com/assets/colab-badge.svg\" alt=\"Open In Colab\"/></a>"
      ]
    },
    {
      "cell_type": "markdown",
      "source": [],
      "metadata": {
        "id": "bYdfj0aWvtY8"
      }
    },
    {
      "cell_type": "markdown",
      "source": [
        "Python codes"
      ],
      "metadata": {
        "id": "vxQ_2gVovxQg"
      }
    },
    {
      "cell_type": "code",
      "source": [],
      "metadata": {
        "id": "Sky7YZrnvz9P"
      },
      "execution_count": null,
      "outputs": []
    }
  ]
}