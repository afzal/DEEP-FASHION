{
  "nbformat": 4,
  "nbformat_minor": 0,
  "metadata": {
    "colab": {
      "provenance": [],
      "authorship_tag": "ABX9TyOPOiVW+2GAeIYVJByyYyjP",
      "include_colab_link": true
    },
    "kernelspec": {
      "name": "python3",
      "display_name": "Python 3"
    },
    "language_info": {
      "name": "python"
    }
  },
  "cells": [
    {
      "cell_type": "markdown",
      "metadata": {
        "id": "view-in-github",
        "colab_type": "text"
      },
      "source": [
        "<a href=\"https://colab.research.google.com/github/afzal/DEEP-FASHION/blob/main/Py.ipynb\" target=\"_parent\"><img src=\"https://colab.research.google.com/assets/colab-badge.svg\" alt=\"Open In Colab\"/></a>"
      ]
    },
    {
      "cell_type": "markdown",
      "source": [],
      "metadata": {
        "id": "bYdfj0aWvtY8"
      }
    },
    {
      "cell_type": "markdown",
      "source": [
        "Python codes"
      ],
      "metadata": {
        "id": "vxQ_2gVovxQg"
      }
    },
    {
      "cell_type": "code",
      "source": [
        "squares = []\n",
        "for num in range(1, 6):\n",
        "    squares.append(num ** 2)\n",
        "print(squares)  # Output: [1, 4, 9, 16, 25]"
      ],
      "metadata": {
        "id": "Sky7YZrnvz9P",
        "outputId": "e67bcaaa-aff2-42d6-c7f8-73d30cc6404c",
        "colab": {
          "base_uri": "https://localhost:8080/"
        }
      },
      "execution_count": 2,
      "outputs": [
        {
          "output_type": "stream",
          "name": "stdout",
          "text": [
            "[1, 4, 9, 16, 25]\n"
          ]
        }
      ]
    }
  ]
}