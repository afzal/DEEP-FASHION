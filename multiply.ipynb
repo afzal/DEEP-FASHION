{
  "nbformat": 4,
  "nbformat_minor": 0,
  "metadata": {
    "colab": {
      "provenance": [],
      "authorship_tag": "ABX9TyNFHkyfsm2doVnt0T49F4s+",
      "include_colab_link": true
    },
    "kernelspec": {
      "name": "python3",
      "display_name": "Python 3"
    },
    "language_info": {
      "name": "python"
    }
  },
  "cells": [
    {
      "cell_type": "markdown",
      "metadata": {
        "id": "view-in-github",
        "colab_type": "text"
      },
      "source": [
        "<a href=\"https://colab.research.google.com/github/afzal/pytorch-N4/blob/main/multiply.ipynb\" target=\"_parent\"><img src=\"https://colab.research.google.com/assets/colab-badge.svg\" alt=\"Open In Colab\"/></a>"
      ]
    },
    {
      "cell_type": "code",
      "execution_count": 5,
      "metadata": {
        "colab": {
          "base_uri": "https://localhost:8080/"
        },
        "id": "YSUTopyCJ_24",
        "outputId": "3195baf0-fd2f-439f-805f-e7690d08de6a"
      },
      "outputs": [
        {
          "output_type": "stream",
          "name": "stdout",
          "text": [
            "My favorite number is 6, and double that is 12.\n"
          ]
        }
      ],
      "source": [
        "favorite_number = 6\n",
        "double = favorite_number * 2\n",
        "print (f\"My favorite number is {favorite_number}, and double that is {double}.\")"
      ]
    }
  ]
}