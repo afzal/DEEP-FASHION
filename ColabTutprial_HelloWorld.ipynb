{
  "nbformat": 4,
  "nbformat_minor": 0,
  "metadata": {
    "colab": {
      "provenance": [],
      "authorship_tag": "ABX9TyM8VwWM0GSZpBbbfMSPcajO",
      "include_colab_link": true
    },
    "kernelspec": {
      "name": "python3",
      "display_name": "Python 3"
    },
    "language_info": {
      "name": "python"
    }
  },
  "cells": [
    {
      "cell_type": "markdown",
      "metadata": {
        "id": "view-in-github",
        "colab_type": "text"
      },
      "source": [
        "<a href=\"https://colab.research.google.com/github/afzal/pytorch-N4/blob/main/ColabTutprial_HelloWorld.ipynb\" target=\"_parent\"><img src=\"https://colab.research.google.com/assets/colab-badge.svg\" alt=\"Open In Colab\"/></a>"
      ]
    },
    {
      "cell_type": "code",
      "execution_count": null,
      "metadata": {
        "id": "CKGoIRbTPcHE",
        "colab": {
          "base_uri": "https://localhost:8080/"
        },
        "outputId": "7560816a-cd02-487d-d8c1-07f4a266f873"
      },
      "outputs": [
        {
          "output_type": "stream",
          "name": "stdout",
          "text": [
            "Hello World!\n"
          ]
        }
      ],
      "source": [
        "print(\"Hello World!\")"
      ]
    },
    {
      "cell_type": "code",
      "source": [],
      "metadata": {
        "id": "hVYpFrn9QnNJ"
      },
      "execution_count": null,
      "outputs": []
    },
    {
      "cell_type": "markdown",
      "source": [
        "title\n"
      ],
      "metadata": {
        "id": "7a5II518QsmI"
      }
    },
    {
      "cell_type": "code",
      "source": [],
      "metadata": {
        "id": "mBcJ5t-hQ0RB"
      },
      "execution_count": null,
      "outputs": []
    }
  ]
}