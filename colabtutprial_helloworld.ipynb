{
  "nbformat": 4,
  "nbformat_minor": 0,
  "metadata": {
    "colab": {
      "provenance": [],
      "authorship_tag": "ABX9TyMH1VheATtFwurTVJXVBaD/",
      "include_colab_link": true
    },
    "kernelspec": {
      "name": "python3",
      "display_name": "Python 3"
    },
    "language_info": {
      "name": "python"
    }
  },
  "cells": [
    {
      "cell_type": "markdown",
      "metadata": {
        "id": "view-in-github",
        "colab_type": "text"
      },
      "source": [
        "<a href=\"https://colab.research.google.com/github/afzal/pytorch-N4/blob/main/colabtutprial_helloworld.ipynb\" target=\"_parent\"><img src=\"https://colab.research.google.com/assets/colab-badge.svg\" alt=\"Open In Colab\"/></a>"
      ]
    },
    {
      "cell_type": "code",
      "execution_count": null,
      "metadata": {
        "id": "CKGoIRbTPcHE",
        "colab": {
          "base_uri": "https://localhost:8080/"
        },
        "outputId": "7fcd6335-6398-4f9b-95b9-325e36e26aa0"
      },
      "outputs": [
        {
          "output_type": "stream",
          "name": "stdout",
          "text": [
            "Hello World!\n"
          ]
        }
      ],
      "source": [
        "print(\"Hello World!\")"
      ]
    },
    {
      "cell_type": "code",
      "source": [],
      "metadata": {
        "id": "hVYpFrn9QnNJ"
      },
      "execution_count": null,
      "outputs": []
    },
    {
      "cell_type": "markdown",
      "source": [
        "title\n"
      ],
      "metadata": {
        "id": "7a5II518QsmI"
      }
    },
    {
      "cell_type": "code",
      "source": [
        "for count in range (3):\n",
        "    print(f\" loop {count}\")"
      ],
      "metadata": {
        "id": "mBcJ5t-hQ0RB",
        "colab": {
          "base_uri": "https://localhost:8080/"
        },
        "outputId": "6bb983d5-3cf4-4bb3-9988-b6cd6a4d5a84"
      },
      "execution_count": null,
      "outputs": [
        {
          "output_type": "stream",
          "name": "stdout",
          "text": [
            " loop 0\n",
            " loop 1\n",
            " loop 2\n"
          ]
        }
      ]
    },
    {
      "cell_type": "markdown",
      "source": [],
      "metadata": {
        "id": "KiT3MSqiXLNJ"
      }
    },
    {
      "cell_type": "code",
      "source": [
        "secret = 3731\n",
        "guess = 0\n",
        "while ( secret != guess):\n",
        "    guess = int ( input(\"guess a n mber\" ))\n",
        "print (\" u got it\")"
      ],
      "metadata": {
        "colab": {
          "base_uri": "https://localhost:8080/"
        },
        "id": "5TpXlYVrXLzE",
        "outputId": "a10e58c3-74bd-4582-95b3-b36efe739f85"
      },
      "execution_count": null,
      "outputs": [
        {
          "output_type": "stream",
          "name": "stdout",
          "text": [
            "guess a nu mber3731\n",
            " u got it\n"
          ]
        }
      ]
    },
    {
      "cell_type": "code",
      "source": [
        "print (\" u got it\")\n",
        "\n"
      ],
      "metadata": {
        "colab": {
          "base_uri": "https://localhost:8080/"
        },
        "id": "MdRsdtPgXMBX",
        "outputId": "2b51a282-6c76-4d09-b156-9cb9488a72d0"
      },
      "execution_count": null,
      "outputs": [
        {
          "output_type": "stream",
          "name": "stdout",
          "text": [
            " u got it\n"
          ]
        }
      ]
    },
    {
      "cell_type": "code",
      "source": [
        "def add(number1, number2):\n",
        "    print(number1 + number2)\n",
        "\n",
        "add(3, 4)\n"
      ],
      "metadata": {
        "id": "LX0or3CUBGwT",
        "outputId": "79fab7b9-d614-457c-fcfe-d882444d6f24",
        "colab": {
          "base_uri": "https://localhost:8080/"
        }
      },
      "execution_count": null,
      "outputs": [
        {
          "output_type": "stream",
          "name": "stdout",
          "text": [
            "7\n"
          ]
        }
      ]
    },
    {
      "cell_type": "code",
      "source": [
        "numbers = [1,20,300,400]\n",
        "print (numbers)\n",
        "print (numbers[1])"
      ],
      "metadata": {
        "colab": {
          "base_uri": "https://localhost:8080/"
        },
        "id": "2RYGSnylbuCm",
        "outputId": "cbc5ceb6-530b-47b3-c18f-1501d95b79cb"
      },
      "execution_count": null,
      "outputs": [
        {
          "output_type": "stream",
          "name": "stdout",
          "text": [
            "[1, 20, 300, 400]\n",
            "20\n"
          ]
        }
      ]
    },
    {
      "cell_type": "code",
      "source": [
        "numbers = [0, 200, 300, 400]\n",
        "numbers.append(500)  # Lowercase 'numbers' to match the variable\n",
        "print(numbers)"
      ],
      "metadata": {
        "id": "zp0fVrD71iB6",
        "outputId": "e4f1d4f8-d376-46b3-b8aa-b85b6b5659b0",
        "colab": {
          "base_uri": "https://localhost:8080/"
        }
      },
      "execution_count": null,
      "outputs": [
        {
          "output_type": "stream",
          "name": "stdout",
          "text": [
            "[0, 200, 300, 400, 500]\n"
          ]
        }
      ]
    },
    {
      "cell_type": "code",
      "source": [
        "car = {\"make\": \"Toyota\", \"color\": \"blue\", \"year\": 2020}\n",
        "print (car)\n",
        "print (car[\"color\"])"
      ],
      "metadata": {
        "id": "WpWjjO72QiD3",
        "outputId": "01110f87-eb57-4022-db34-3f3a640b1b77",
        "colab": {
          "base_uri": "https://localhost:8080/"
        }
      },
      "execution_count": null,
      "outputs": [
        {
          "output_type": "stream",
          "name": "stdout",
          "text": [
            "{'make': 'Toyota', 'color': 'blue', 'year': 2020}\n",
            "blue\n"
          ]
        }
      ]
    },
    {
      "cell_type": "code",
      "source": [
        "person = {\"name\": \"Alex\", \"age\": 25, \"city\": \"New York\"}\n",
        "print(person)\n",
        "print(person[\"name\"])  # Get the value for the \"name\" key"
      ],
      "metadata": {
        "id": "1EryWRGvRmF5",
        "outputId": "bd9ecadc-fa26-4610-d026-09d2282abbe5",
        "colab": {
          "base_uri": "https://localhost:8080/"
        }
      },
      "execution_count": null,
      "outputs": [
        {
          "output_type": "stream",
          "name": "stdout",
          "text": [
            "{'name': 'Alex', 'age': 25, 'city': 'New York'}\n",
            "Alex\n"
          ]
        }
      ]
    },
    {
      "cell_type": "code",
      "source": [
        "for key in person:\n",
        "  print (key)"
      ],
      "metadata": {
        "id": "JvniKRgTSF5C",
        "outputId": "8eed8a52-e263-472e-8af3-7fe777544a12",
        "colab": {
          "base_uri": "https://localhost:8080/"
        }
      },
      "execution_count": null,
      "outputs": [
        {
          "output_type": "stream",
          "name": "stdout",
          "text": [
            "name\n",
            "age\n",
            "city\n"
          ]
        }
      ]
    },
    {
      "cell_type": "code",
      "source": [
        "for key in person:\n",
        "  print(person[key])"
      ],
      "metadata": {
        "id": "B4fGmcTFScgZ",
        "outputId": "024255d7-4580-49a7-be0f-cccf4ea90d90",
        "colab": {
          "base_uri": "https://localhost:8080/"
        }
      },
      "execution_count": null,
      "outputs": [
        {
          "output_type": "stream",
          "name": "stdout",
          "text": [
            "Alex\n",
            "25\n",
            "city\n"
          ]
        }
      ]
    },
    {
      "cell_type": "code",
      "source": [
        "for key, value in person.items():\n",
        "  print(f\"{key}:{value}\")"
      ],
      "metadata": {
        "id": "5sczSDJtUcqR",
        "outputId": "97cb1df9-6d76-42e0-f80f-c9fc4894c143",
        "colab": {
          "base_uri": "https://localhost:8080/"
        }
      },
      "execution_count": null,
      "outputs": [
        {
          "output_type": "stream",
          "name": "stdout",
          "text": [
            "name:Alex\n",
            "age:25\n",
            "city:city\n"
          ]
        }
      ]
    },
    {
      "cell_type": "code",
      "source": [
        "person = {\"name\": \"Alex\", \"age\": 25, \"city\": \"New York\"}\n",
        "for key, value in person.items():\n",
        "    if isinstance(value, int ):\n",
        "        print(f\"{key}: {value}\")"
      ],
      "metadata": {
        "id": "n4dONFQPnOvE",
        "outputId": "662ddb06-fafb-4d8f-9c52-74e4613249a2",
        "colab": {
          "base_uri": "https://localhost:8080/"
        }
      },
      "execution_count": null,
      "outputs": [
        {
          "output_type": "stream",
          "name": "stdout",
          "text": [
            "age: 25\n"
          ]
        }
      ]
    },
    {
      "cell_type": "code",
      "source": [
        "person = {\"name\": \"Alex\", \"age\": 25, \"city\": \"New York\"}\n",
        "counter = 0\n",
        "person[\"height\"] = 169\n",
        "for key, value in person.items():\n",
        "    if isinstance(value, int):\n",
        "        counter = counter +1\n",
        "        print(f\"{key}: {value}\")\n",
        "print(counter)"
      ],
      "metadata": {
        "id": "jeiVnXVes5b-",
        "outputId": "d1fe738c-7815-433b-95cb-26d4cd97da77",
        "colab": {
          "base_uri": "https://localhost:8080/"
        }
      },
      "execution_count": null,
      "outputs": [
        {
          "output_type": "stream",
          "name": "stdout",
          "text": [
            "age: 25\n",
            "height: 169\n",
            "2\n"
          ]
        }
      ]
    },
    {
      "cell_type": "code",
      "source": [
        "name = input(\"Enter your full name: \")\n",
        "# Add your code here!\n",
        "print(name.upper())\n",
        "print(name.lower())\n",
        "print(name.split())"
      ],
      "metadata": {
        "colab": {
          "base_uri": "https://localhost:8080/"
        },
        "id": "ZO_3QY8_gICh",
        "outputId": "84f39983-9aa6-4284-b343-ba80736d3bf8"
      },
      "execution_count": 1,
      "outputs": [
        {
          "output_type": "stream",
          "name": "stdout",
          "text": [
            "Enter your full name: Samira Afzal\n",
            "SAMIRA AFZAL\n",
            "samira afzal\n",
            "['Samira', 'Afzal']\n"
          ]
        }
      ]
    },
    {
      "cell_type": "code",
      "source": [
        "import numpy as np"
      ],
      "metadata": {
        "id": "9JtaS_81mPsG"
      },
      "execution_count": 2,
      "outputs": []
    },
    {
      "cell_type": "code",
      "source": [
        "# List\n",
        "list_example = [1, 2, 3]\n",
        "print(list_example * 2)  # [1, 2, 3, 1, 2, 3] (repeats the list)\n",
        "\n",
        "# NumPy Array\n",
        "import numpy as np\n",
        "array_example = np.array([1, 2, 3])\n",
        "print(array_example * 2)  # [2, 4, 6] (multiplies each element)"
      ],
      "metadata": {
        "id": "DAtj02s3nI3-",
        "outputId": "b97b47a3-f3ae-45ed-da94-dbb69fa5e9f5",
        "colab": {
          "base_uri": "https://localhost:8080/"
        }
      },
      "execution_count": 3,
      "outputs": [
        {
          "output_type": "stream",
          "name": "stdout",
          "text": [
            "[1, 2, 3, 1, 2, 3]\n",
            "[2 4 6]\n"
          ]
        }
      ]
    },
    {
      "cell_type": "code",
      "source": [
        "my_list = [1,2,3]\n",
        "my_array = np.array([1,2,3])\n",
        "print(my_list * 3)\n",
        "print(my_array *3)\n",
        "print(type(my_array))\n",
        "print(type(my_list))"
      ],
      "metadata": {
        "id": "dQh5dDZVoEAs",
        "outputId": "c9ab1343-64a7-45a1-d256-4cbb5942e2ac",
        "colab": {
          "base_uri": "https://localhost:8080/"
        }
      },
      "execution_count": 7,
      "outputs": [
        {
          "output_type": "stream",
          "name": "stdout",
          "text": [
            "[1, 2, 3, 1, 2, 3, 1, 2, 3]\n",
            "[3 6 9]\n",
            "<class 'numpy.ndarray'>\n",
            "<class 'list'>\n"
          ]
        }
      ]
    }
  ]
}