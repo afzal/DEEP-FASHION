{
  "nbformat": 4,
  "nbformat_minor": 0,
  "metadata": {
    "colab": {
      "provenance": [],
      "authorship_tag": "ABX9TyMqQm4hXQhD5V7zPfWSgOpi",
      "include_colab_link": true
    },
    "kernelspec": {
      "name": "python3",
      "display_name": "Python 3"
    },
    "language_info": {
      "name": "python"
    }
  },
  "cells": [
    {
      "cell_type": "markdown",
      "metadata": {
        "id": "view-in-github",
        "colab_type": "text"
      },
      "source": [
        "<a href=\"https://colab.research.google.com/github/afzal/pytorch-N4/blob/main/colabtutprial_helloworld.ipynb\" target=\"_parent\"><img src=\"https://colab.research.google.com/assets/colab-badge.svg\" alt=\"Open In Colab\"/></a>"
      ]
    },
    {
      "cell_type": "code",
      "execution_count": 1,
      "metadata": {
        "id": "CKGoIRbTPcHE",
        "colab": {
          "base_uri": "https://localhost:8080/"
        },
        "outputId": "7fcd6335-6398-4f9b-95b9-325e36e26aa0"
      },
      "outputs": [
        {
          "output_type": "stream",
          "name": "stdout",
          "text": [
            "Hello World!\n"
          ]
        }
      ],
      "source": [
        "print(\"Hello World!\")"
      ]
    },
    {
      "cell_type": "code",
      "source": [],
      "metadata": {
        "id": "hVYpFrn9QnNJ"
      },
      "execution_count": null,
      "outputs": []
    },
    {
      "cell_type": "markdown",
      "source": [
        "title\n"
      ],
      "metadata": {
        "id": "7a5II518QsmI"
      }
    },
    {
      "cell_type": "code",
      "source": [
        "for count in range (3):\n",
        "    print(f\" loop {count}\")"
      ],
      "metadata": {
        "id": "mBcJ5t-hQ0RB",
        "colab": {
          "base_uri": "https://localhost:8080/"
        },
        "outputId": "6bb983d5-3cf4-4bb3-9988-b6cd6a4d5a84"
      },
      "execution_count": 2,
      "outputs": [
        {
          "output_type": "stream",
          "name": "stdout",
          "text": [
            " loop 0\n",
            " loop 1\n",
            " loop 2\n"
          ]
        }
      ]
    }
  ]
}