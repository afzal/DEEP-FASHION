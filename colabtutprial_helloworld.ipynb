{
  "nbformat": 4,
  "nbformat_minor": 0,
  "metadata": {
    "colab": {
      "provenance": [],
      "authorship_tag": "ABX9TyOZYljPEsY2/gswtNHg2sfg",
      "include_colab_link": true
    },
    "kernelspec": {
      "name": "python3",
      "display_name": "Python 3"
    },
    "language_info": {
      "name": "python"
    }
  },
  "cells": [
    {
      "cell_type": "markdown",
      "metadata": {
        "id": "view-in-github",
        "colab_type": "text"
      },
      "source": [
        "<a href=\"https://colab.research.google.com/github/afzal/pytorch-N4/blob/main/colabtutprial_helloworld.ipynb\" target=\"_parent\"><img src=\"https://colab.research.google.com/assets/colab-badge.svg\" alt=\"Open In Colab\"/></a>"
      ]
    },
    {
      "cell_type": "code",
      "execution_count": null,
      "metadata": {
        "id": "CKGoIRbTPcHE",
        "colab": {
          "base_uri": "https://localhost:8080/"
        },
        "outputId": "7fcd6335-6398-4f9b-95b9-325e36e26aa0"
      },
      "outputs": [
        {
          "output_type": "stream",
          "name": "stdout",
          "text": [
            "Hello World!\n"
          ]
        }
      ],
      "source": [
        "print(\"Hello World!\")"
      ]
    },
    {
      "cell_type": "code",
      "source": [],
      "metadata": {
        "id": "hVYpFrn9QnNJ"
      },
      "execution_count": null,
      "outputs": []
    },
    {
      "cell_type": "markdown",
      "source": [
        "title\n"
      ],
      "metadata": {
        "id": "7a5II518QsmI"
      }
    },
    {
      "cell_type": "code",
      "source": [
        "for count in range (3):\n",
        "    print(f\" loop {count}\")"
      ],
      "metadata": {
        "id": "mBcJ5t-hQ0RB",
        "colab": {
          "base_uri": "https://localhost:8080/"
        },
        "outputId": "6bb983d5-3cf4-4bb3-9988-b6cd6a4d5a84"
      },
      "execution_count": null,
      "outputs": [
        {
          "output_type": "stream",
          "name": "stdout",
          "text": [
            " loop 0\n",
            " loop 1\n",
            " loop 2\n"
          ]
        }
      ]
    },
    {
      "cell_type": "markdown",
      "source": [],
      "metadata": {
        "id": "KiT3MSqiXLNJ"
      }
    },
    {
      "cell_type": "code",
      "source": [
        "secret = 3731\n",
        "guess = 0\n",
        "while ( secret != guess):\n",
        "    guess = int ( input(\"guess a n mber\" ))\n",
        "print (\" u got it\")"
      ],
      "metadata": {
        "colab": {
          "base_uri": "https://localhost:8080/"
        },
        "id": "5TpXlYVrXLzE",
        "outputId": "a10e58c3-74bd-4582-95b3-b36efe739f85"
      },
      "execution_count": null,
      "outputs": [
        {
          "output_type": "stream",
          "name": "stdout",
          "text": [
            "guess a nu mber3731\n",
            " u got it\n"
          ]
        }
      ]
    },
    {
      "cell_type": "code",
      "source": [
        "print (\" u got it\")\n",
        "\n"
      ],
      "metadata": {
        "colab": {
          "base_uri": "https://localhost:8080/"
        },
        "id": "MdRsdtPgXMBX",
        "outputId": "2b51a282-6c76-4d09-b156-9cb9488a72d0"
      },
      "execution_count": null,
      "outputs": [
        {
          "output_type": "stream",
          "name": "stdout",
          "text": [
            " u got it\n"
          ]
        }
      ]
    }
  ]
}